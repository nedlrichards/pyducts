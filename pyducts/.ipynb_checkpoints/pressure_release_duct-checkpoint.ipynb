{
 "cells": [
  {
   "cell_type": "code",
   "execution_count": 9,
   "id": "published-commissioner",
   "metadata": {},
   "outputs": [],
   "source": [
    "\"\"\"\n",
    "Pressure release duct\n",
    "\"\"\"\n",
    "\n",
    "import numpy as np\n",
    "from math import pi\n",
    "import matplotlib.pyplot as plt\n",
    "from scipy.special import hankel1\n",
    "\n",
    "fc = 20.  # frequency (Hz)\n",
    "c = 1500.  # sound speed (m/s)\n",
    "D = 100.  # duct depth (m)\n",
    "\n",
    "zsrc = 36.  # source depth (m)\n",
    "zrcr = 36.  # receiver depth (m)\n",
    "\n",
    "max_range = 3e3\n",
    "numr = 2 ** 8\n",
    "raxis = (np.arange(numr) + 1) * max_range / numr\n",
    "\n",
    "kc = 2 * pi * fc / c"
   ]
  },
  {
   "cell_type": "code",
   "execution_count": 10,
   "id": "sitting-montgomery",
   "metadata": {},
   "outputs": [],
   "source": [
    "# image source solution\n",
    "maxis = np.arange(50)\n",
    "p_img = 0\n",
    "for m in maxis:\n",
    "    rm1 = np.sqrt(raxis ** 2 + (2 * D * m - zsrc + zrcr) ** 2)\n",
    "    rm2 = np.sqrt(raxis ** 2 + (2 * D * (m + 1) - zsrc - zrcr) ** 2)\n",
    "    rm3 = np.sqrt(raxis ** 2 + (2 * D * m + zsrc + zrcr) ** 2)\n",
    "    rm4 = np.sqrt(raxis ** 2 + (2 * D * (m + 1) + zsrc - zrcr) ** 2)\n",
    "    \n",
    "    p_img += np.exp(1j * kc * rm1) / rm1 \\\n",
    "             - np.exp(1j * kc * rm2) / rm2 \\\n",
    "             - np.exp(1j * kc * rm3) / rm3 \\\n",
    "             + np.exp(1j * kc * rm4) / rm4\n",
    "    \n",
    "p_img /= 4 * pi\n",
    "\n",
    "dB_img = 20 * np.log10(np.abs(p_img))"
   ]
  },
  {
   "cell_type": "code",
   "execution_count": 14,
   "id": "sustainable-edmonton",
   "metadata": {},
   "outputs": [],
   "source": [
    "# modal solution\n",
    "kz_test = (np.arange(100) + 1) * pi / D\n",
    "kz_modes = kz_test[kz_test < kc]\n",
    "kr = np.sqrt(kc ** 2 - kz_modes ** 2)\n",
    "\n",
    "p_mode = np.sin(kz_modes * zrcr) * np.sin(kz_modes * zsrc) \\\n",
    "       * hankel1(0, kr * raxis[:, None])\n",
    "p_mode = p_mode.sum(axis=-1)\n",
    "p_mode *= -1j / (2 * D)\n",
    "\n",
    "dB_mode = 20 * np.log10(np.abs(p_mode))"
   ]
  },
  {
   "cell_type": "code",
   "execution_count": 142,
   "id": "liable-alberta",
   "metadata": {},
   "outputs": [
    {
     "name": "stderr",
     "output_type": "stream",
     "text": [
      "<ipython-input-142-5e7041f4e1a0>:24: RuntimeWarning: divide by zero encountered in true_divide\n",
      "  p_wni *= np.exp(-1j * pi / 4) / np.sqrt(2 * pi * wni_raxis)\n",
      "<ipython-input-142-5e7041f4e1a0>:24: RuntimeWarning: invalid value encountered in multiply\n",
      "  p_wni *= np.exp(-1j * pi / 4) / np.sqrt(2 * pi * wni_raxis)\n"
     ]
    }
   ],
   "source": [
    "# wni\n",
    "kr_max = 0.21\n",
    "kr_axis = np.arange(numr) * kr_max / numr\n",
    "dkr = (kr_axis[-1] - kr_axis[0]) / (kr_axis.size - 1)\n",
    "kr_axis = kr_axis - 1e-3j * np.tanh(kr_axis / (8 * dkr))\n",
    "\n",
    "dr = 2 * pi / kr_max\n",
    "wni_raxis = np.arange(numr) * dr\n",
    "\n",
    "kz_axis = np.sqrt(kc ** 2 - kr_axis ** 2 + 0j)\n",
    "\n",
    "if zrcr < zsrc:\n",
    "    phi = np.sin(kz_axis * zrcr) * np.sin(kz_axis * (D - zsrc)) \\\n",
    "        / (kz_axis * np.sin(kz_axis * D))\n",
    "else:\n",
    "    phi = np.sin(kz_axis * zsrc) * np.sin(kz_axis * (D - zrcr)) \\\n",
    "        / (kz_axis * np.sin(kz_axis * D))\n",
    "\n",
    "phi /= -4 * pi\n",
    "\n",
    "p_wni = 2 * np.sum(phi[:, None]\n",
    "                   * np.exp(1j * kr_axis[:, None] * wni_raxis) \n",
    "                   * np.sqrt(kr_axis[:, None]), axis=0) * dkr\n",
    "p_wni *= np.exp(-1j * pi / 4) / np.sqrt(2 * pi * wni_raxis)\n",
    "\n",
    "dB_wni = 20 * np.log10(np.abs(p_wni))"
   ]
  },
  {
   "cell_type": "code",
   "execution_count": 143,
   "id": "dimensional-purse",
   "metadata": {},
   "outputs": [
    {
     "data": {
      "image/png": "[encoded data removed]",
      "text/plain": [
       "<Figure size 432x288 with 1 Axes>"
      ]
     },
     "metadata": {
      "needs_background": "light"
     },
     "output_type": "display_data"
    }
   ],
   "source": [
    "fig, ax = plt.subplots()\n",
    "ax.plot(raxis / 1e3, dB_img)\n",
    "ax.plot(raxis / 1e3, dB_mode)\n",
    "ax.plot(wni_raxis / 1e3, dB_wni)\n",
    "_=ax.set_xlim(0, 3)"
   ]
  },
  {
   "cell_type": "code",
   "execution_count": null,
   "id": "organizational-venture",
   "metadata": {},
   "outputs": [],
   "source": []
  },
  {
   "cell_type": "code",
   "execution_count": null,
   "id": "adopted-favorite",
   "metadata": {},
   "outputs": [],
   "source": []
  },
  {
   "cell_type": "code",
   "execution_count": null,
   "id": "hydraulic-trigger",
   "metadata": {},
   "outputs": [],
   "source": []
  }
 ],
 "metadata": {
  "kernelspec": {
   "display_name": "Python 3",
   "language": "python",
   "name": "python3"
  },
  "language_info": {
   "codemirror_mode": {
    "name": "ipython",
    "version": 3
   },
   "file_extension": ".py",
   "mimetype": "text/x-python",
   "name": "python",
   "nbconvert_exporter": "python",
   "pygments_lexer": "ipython3",
   "version": "3.8.3"
  }
 },
 "nbformat": 4,
 "nbformat_minor": 5
}
